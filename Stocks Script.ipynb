{
 "cells": [
  {
   "cell_type": "markdown",
   "metadata": {},
   "source": [
    "# Tarea 1\n",
    "\n"
   ]
  },
  {
   "cell_type": "code",
   "execution_count": 14,
   "metadata": {},
   "outputs": [],
   "source": [
    "import numpy as np\n",
    "import pandas as pd\n",
    "import pandas_datareader as web\n",
    "import matplotlib.pyplot as plt\n",
    "import datetime\n",
    "import pandas_datareader as pdr\n",
    "%matplotlib inline"
   ]
  },
  {
   "cell_type": "code",
   "execution_count": 15,
   "metadata": {},
   "outputs": [],
   "source": [
    "import scipy.stats as stats\n",
    "from scipy.stats import kurtosis \n",
    "from scipy.stats import skew\n",
    "import pylab as p \n",
    "\n",
    "import random\n",
    "import math\n",
    "import scipy.integrate as integrate\n",
    "import scipy"
   ]
  },
  {
   "cell_type": "markdown",
   "metadata": {},
   "source": [
    "## Tesla"
   ]
  },
  {
   "cell_type": "code",
   "execution_count": 16,
   "metadata": {},
   "outputs": [
    {
     "data": {
      "text/plain": [
       "Date\n",
       "2018-01-02    64.106003\n",
       "2018-01-03    63.450001\n",
       "2018-01-04    62.924000\n",
       "2018-01-05    63.316002\n",
       "2018-01-08    67.281998\n",
       "Name: Adj Close, dtype: float64"
      ]
     },
     "execution_count": 16,
     "metadata": {},
     "output_type": "execute_result"
    }
   ],
   "source": [
    "#Extracción data de Activo riesgoso --> Tesla \n",
    "start=datetime.datetime(2018,1,1)\n",
    "end=datetime.datetime(2021,1,1)\n",
    "dataTesla=pdr.get_data_yahoo('TSLA', start, end)['Adj Close']\n",
    "dataTesla.head()"
   ]
  },
  {
   "cell_type": "code",
   "execution_count": 17,
   "metadata": {
    "scrolled": true
   },
   "outputs": [
    {
     "data": {
      "text/plain": [
       "<AxesSubplot:xlabel='Date'>"
      ]
     },
     "execution_count": 17,
     "metadata": {},
     "output_type": "execute_result"
    },
    {
     "data": {
      "image/png": "[encoded data removed]",
      "text/plain": [
       "<Figure size 360x360 with 1 Axes>"
      ]
     },
     "metadata": {
      "needs_background": "light"
     },
     "output_type": "display_data"
    }
   ],
   "source": [
    "#Gráficos\n",
    "dataTesla.plot(figsize=(5,5))\n",
    "(dataTesla/dataTesla.iloc[0]*100).plot(figsize=(5,5))\n"
   ]
  },
  {
   "cell_type": "code",
   "execution_count": 18,
   "metadata": {},
   "outputs": [
    {
     "data": {
      "text/plain": [
       "Date\n",
       "2018-01-03   -0.010286\n",
       "2018-01-04   -0.008325\n",
       "2018-01-05    0.006210\n",
       "2018-01-08    0.060755\n",
       "2018-01-09   -0.008118\n",
       "Name: Adj Close, dtype: float64"
      ]
     },
     "execution_count": 18,
     "metadata": {},
     "output_type": "execute_result"
    }
   ],
   "source": [
    "#Calculo de los Log-rendimientos \n",
    "log_retsTesla=np.log(dataTesla/dataTesla.shift(1))\n",
    "log_retsTesla2=log_retsTesla.drop(log_retsTesla.index[0]) #elimina 1er renglon\n",
    "log_retsTesla2.head()"
   ]
  },
  {
   "cell_type": "code",
   "execution_count": 19,
   "metadata": {},
   "outputs": [
    {
     "name": "stdout",
     "output_type": "stream",
     "text": [
      "-0.23097814099562133\n"
     ]
    }
   ],
   "source": [
    "#Calculo de las pruebas\n",
    "skew_logretTesla = log_retsTesla2.skew()\n",
    "print(skew_logretTesla)"
   ]
  },
  {
   "cell_type": "code",
   "execution_count": 8,
   "metadata": {},
   "outputs": [
    {
     "name": "stdout",
     "output_type": "stream",
     "text": [
      "4.645585162563661\n"
     ]
    }
   ],
   "source": [
    "kurt_logretTesla = log_retsTesla2.kurt()\n",
    "print(kurt_logretTesla)"
   ]
  },
  {
   "cell_type": "code",
   "execution_count": 81,
   "metadata": {},
   "outputs": [
    {
     "data": {
      "text/plain": [
       "count    755.000000\n",
       "mean       0.003177\n",
       "std        0.042892\n",
       "min       -0.236518\n",
       "25%       -0.017672\n",
       "50%        0.002176\n",
       "75%        0.022420\n",
       "max        0.181445\n",
       "Name: Adj Close, dtype: float64"
      ]
     },
     "execution_count": 81,
     "metadata": {},
     "output_type": "execute_result"
    }
   ],
   "source": [
    "log_retsTesla2.describe()"
   ]
  },
  {
   "cell_type": "code",
   "execution_count": 20,
   "metadata": {},
   "outputs": [
    {
     "data": {
      "text/plain": [
       "Ttest_1sampResult(statistic=5.55643420507396e-16, pvalue=0.9999999999999996)"
      ]
     },
     "execution_count": 20,
     "metadata": {},
     "output_type": "execute_result"
    }
   ],
   "source": [
    "##Prueba T test media cero.\n",
    "stats.ttest_1samp(a=log_retsTesla2,popmean=log_retsTesla2.mean())   # All data mean"
   ]
  },
  {
   "cell_type": "code",
   "execution_count": 105,
   "metadata": {},
   "outputs": [
    {
     "name": "stdout",
     "output_type": "stream",
     "text": [
      "-2.5910078708691016\n",
      "pvalue: 0.00956953028065903\n"
     ]
    }
   ],
   "source": [
    "#Prueba de Sesgo\n",
    "t3=skew_logretTesla/np.sqrt(6/T)\n",
    "##P valor\n",
    "p_value = scipy.stats.norm.sf(abs(t3))*2\n",
    "print(t3)\n",
    "print('pvalue: ' + str(p_value))"
   ]
  },
  {
   "cell_type": "code",
   "execution_count": 104,
   "metadata": {},
   "outputs": [
    {
     "name": "stdout",
     "output_type": "stream",
     "text": [
      "26.056032118691572\n",
      "146.14236657231515\n",
      "pvalue: 0.0\n"
     ]
    }
   ],
   "source": [
    "# Prueba Kurtosis\n",
    "s4 = kurt_logretTesla/np.sqrt(24/T)\n",
    "print(s4)\n",
    "\n",
    "t4=s4/np.sqrt(24/T)\n",
    "print(t4)\n",
    "##P valor\n",
    "p_value_k = scipy.stats.norm.sf(abs(t4))*2\n",
    "print('pvalue: ' + str(p_value_k))"
   ]
  },
  {
   "cell_type": "code",
   "execution_count": 107,
   "metadata": {},
   "outputs": [
    {
     "name": "stdout",
     "output_type": "stream",
     "text": [
      "pvalue: 9.931343433319383e-19\n"
     ]
    }
   ],
   "source": [
    "## Prueba normalidad  # Null rechazada: The null hypothesis of the test: the data is normally distributed\n",
    "stats.shapiro(log_retsTesla2)\n",
    "print('pvalue: ' + str(stats.shapiro(log_retsTesla2).pvalue))"
   ]
  },
  {
   "cell_type": "markdown",
   "metadata": {},
   "source": [
    "## Bono (BND)"
   ]
  },
  {
   "cell_type": "code",
   "execution_count": 4,
   "metadata": {},
   "outputs": [
    {
     "data": {
      "text/plain": [
       "Date\n",
       "2018-01-02    74.809769\n",
       "2018-01-03    74.874153\n",
       "2018-01-04    74.837372\n",
       "2018-01-05    74.736206\n",
       "2018-01-08    74.745399\n",
       "Name: Adj Close, dtype: float64"
      ]
     },
     "execution_count": 4,
     "metadata": {},
     "output_type": "execute_result"
    }
   ],
   "source": [
    "#Extracción data de Activo no riesgoso --> BND\n",
    "start=datetime.datetime(2018,1,1)\n",
    "end=datetime.datetime(2021,1,1)\n",
    "dataBND=pdr.get_data_yahoo('BND', start, end)['Adj Close']\n",
    "dataBND.head()"
   ]
  },
  {
   "cell_type": "code",
   "execution_count": 5,
   "metadata": {},
   "outputs": [
    {
     "data": {
      "text/plain": [
       "<AxesSubplot:xlabel='Date'>"
      ]
     },
     "execution_count": 5,
     "metadata": {},
     "output_type": "execute_result"
    },
    {
     "data": {
      "image/png": "[encoded data removed]",
      "text/plain": [
       "<Figure size 360x360 with 1 Axes>"
      ]
     },
     "metadata": {
      "needs_background": "light"
     },
     "output_type": "display_data"
    }
   ],
   "source": [
    "#Gráficos\n",
    "dataBND.plot(figsize=(5,5))\n",
    "(dataBND/dataBND.iloc[0]*100).plot(figsize=(5,5))"
   ]
  },
  {
   "cell_type": "code",
   "execution_count": 6,
   "metadata": {},
   "outputs": [
    {
     "data": {
      "text/plain": [
       "Date\n",
       "2018-01-03    0.000860\n",
       "2018-01-04   -0.000491\n",
       "2018-01-05   -0.001353\n",
       "2018-01-08    0.000123\n",
       "2018-01-09   -0.002957\n",
       "Name: Adj Close, dtype: float64"
      ]
     },
     "execution_count": 6,
     "metadata": {},
     "output_type": "execute_result"
    }
   ],
   "source": [
    "#Calculo de los Log-rendimientos \n",
    "log_retsBND=np.log(dataBND/dataBND.shift(1))\n",
    "log_retsBND2=log_retsBND.drop(log_retsBND.index[0]) #elimina 1er renglon\n",
    "log_retsBND2.head()"
   ]
  },
  {
   "cell_type": "code",
   "execution_count": 8,
   "metadata": {},
   "outputs": [
    {
     "name": "stdout",
     "output_type": "stream",
     "text": [
      "-3.1488503461604473\n"
     ]
    }
   ],
   "source": [
    "#Calculo de las pruebas\n",
    "skew_logretBND = log_retsBND2.skew()\n",
    "print(skew_logretBND)"
   ]
  },
  {
   "cell_type": "code",
   "execution_count": 11,
   "metadata": {},
   "outputs": [
    {
     "name": "stdout",
     "output_type": "stream",
     "text": [
      "93.71093680995588\n"
     ]
    }
   ],
   "source": [
    "kurt_logretBND = log_retsBND2.kurt()\n",
    "print(kurt_logretBND)"
   ]
  },
  {
   "cell_type": "code",
   "execution_count": 12,
   "metadata": {},
   "outputs": [
    {
     "data": {
      "text/plain": [
       "count    755.000000\n",
       "mean       0.000216\n",
       "std        0.003725\n",
       "min       -0.055920\n",
       "25%       -0.000999\n",
       "50%        0.000255\n",
       "75%        0.001483\n",
       "max        0.041335\n",
       "Name: Adj Close, dtype: float64"
      ]
     },
     "execution_count": 12,
     "metadata": {},
     "output_type": "execute_result"
    }
   ],
   "source": [
    "log_retsBND2.describe()"
   ]
  },
  {
   "cell_type": "code",
   "execution_count": 10,
   "metadata": {
    "scrolled": true
   },
   "outputs": [
    {
     "data": {
      "text/plain": [
       "Ttest_1sampResult(statistic=1.599451016484498e-15, pvalue=0.9999999999999988)"
      ]
     },
     "execution_count": 10,
     "metadata": {},
     "output_type": "execute_result"
    }
   ],
   "source": [
    "##Prueba T test media cero.\n",
    "stats.ttest_1samp(a=log_retsBND2,popmean=log_retsBND2.mean())   # All data mean\n"
   ]
  },
  {
   "cell_type": "code",
   "execution_count": 116,
   "metadata": {},
   "outputs": [
    {
     "name": "stdout",
     "output_type": "stream",
     "text": [
      "-35.32237291339737\n",
      "pvalue: 2.6634132239009903e-273\n"
     ]
    }
   ],
   "source": [
    "#Prueba de Sesgo\n",
    "t3=skew_logretBND/np.sqrt(6/T)\n",
    "##P valor\n",
    "p_value = scipy.stats.norm.sf(abs(t3))*2\n",
    "print(t3)\n",
    "print('pvalue: ' + str(p_value))"
   ]
  },
  {
   "cell_type": "code",
   "execution_count": 119,
   "metadata": {},
   "outputs": [
    {
     "name": "stdout",
     "output_type": "stream",
     "text": [
      "525.6033618906725\n",
      "2947.9898871465284\n",
      "pvalue: 0.0\n"
     ]
    }
   ],
   "source": [
    "# Prueba Kurtosis\n",
    "s4 = kurt_logretBND/np.sqrt(24/T)\n",
    "print(s4)\n",
    "\n",
    "t4=s4/np.sqrt(24/T)\n",
    "print(t4)\n",
    "##P valor\n",
    "p_value_k = scipy.stats.norm.sf(abs(t4))*2\n",
    "print('pvalue: ' + str(p_value_k))"
   ]
  },
  {
   "cell_type": "code",
   "execution_count": 120,
   "metadata": {},
   "outputs": [
    {
     "name": "stdout",
     "output_type": "stream",
     "text": [
      "pvalue: 8.144668973302632e-40\n"
     ]
    }
   ],
   "source": [
    "## Prueba normalidad  # Null rechazada: The null hypothesis of the test: the data is normally distributed\n",
    "stats.shapiro(log_retsBND2)\n",
    "print('pvalue: ' + str(stats.shapiro(log_retsBND2).pvalue))"
   ]
  },
  {
   "cell_type": "markdown",
   "metadata": {},
   "source": [
    "## Comparación Graficos"
   ]
  },
  {
   "cell_type": "code",
   "execution_count": 124,
   "metadata": {},
   "outputs": [],
   "source": [
    "##Grafica de sus densidades, \n",
    "mu, sigma = 0, 0.019 # mean and standard deviation\n",
    "norm_data = np.random.normal(mu, sigma, 755)\n",
    "skewed_data = np.random.normal(mu, sigma, 755)+0.02\n",
    "my_data1 = log_retsTesla2\n",
    "my_data2 = log_retsBND2\n",
    "\n",
    "data_df = pd.DataFrame({\"Norm\":norm_data,\n",
    "                       \"Norm SesgoDer\":skewed_data,   \n",
    "                        \"Rt_Tesla\":my_data1,\n",
    "                        \"Rt_BND\":my_data2,\n",
    "\n",
    "                       })"
   ]
  },
  {
   "cell_type": "code",
   "execution_count": 125,
   "metadata": {},
   "outputs": [
    {
     "data": {
      "text/plain": [
       "<AxesSubplot:ylabel='Density'>"
      ]
     },
     "execution_count": 125,
     "metadata": {},
     "output_type": "execute_result"
    },
    {
     "data": {
      "image/png": "[encoded data removed]",
      "text/plain": [
       "<Figure size 720x720 with 1 Axes>"
      ]
     },
     "metadata": {
      "needs_background": "light"
     },
     "output_type": "display_data"
    }
   ],
   "source": [
    "data_df.plot(kind=\"density\",\n",
    "            figsize=(10,10),\n",
    "            xlim=(-0.2,0.2))\n"
   ]
  },
  {
   "cell_type": "code",
   "execution_count": null,
   "metadata": {},
   "outputs": [],
   "source": []
  }
 ],
 "metadata": {
  "kernelspec": {
   "display_name": "Python 3",
   "language": "python",
   "name": "python3"
  },
  "language_info": {
   "codemirror_mode": {
    "name": "ipython",
    "version": 3
   },
   "file_extension": ".py",
   "mimetype": "text/x-python",
   "name": "python",
   "nbconvert_exporter": "python",
   "pygments_lexer": "ipython3",
   "version": "3.8.5"
  }
 },
 "nbformat": 4,
 "nbformat_minor": 4
}
